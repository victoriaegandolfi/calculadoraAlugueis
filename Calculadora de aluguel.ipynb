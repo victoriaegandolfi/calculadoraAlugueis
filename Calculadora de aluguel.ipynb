{
 "cells": [
  {
   "cell_type": "markdown",
   "id": "e014a7f1",
   "metadata": {},
   "source": [
    "# Calculadora de aluguel"
   ]
  },
  {
   "cell_type": "markdown",
   "id": "d9ea3cb5",
   "metadata": {},
   "source": [
    "# 1. Tarefa: Calculadora de Aluguel - Coleta de Dados"
   ]
  },
  {
   "cell_type": "code",
   "execution_count": 32,
   "id": "37232115",
   "metadata": {},
   "outputs": [],
   "source": [
    "%matplotlib inline\n",
    "from sklearn.datasets import fetch_california_housing\n",
    "import pandas as pd\n",
    "import matplotlib.pyplot as plt\n",
    "import numpy as np\n",
    "from sklearn.preprocessing import MinMaxScaler, RobustScaler\n",
    "from sklearn.svm import SVR\n",
    "from sklearn.model_selection import train_test_split, cross_val_score\n",
    "from sklearn.metrics import mean_squared_error as mse\n",
    "from sklearn.model_selection import GridSearchCV\n",
    "import sklearn"
   ]
  },
  {
   "cell_type": "code",
   "execution_count": 2,
   "id": "8e9d92cd",
   "metadata": {},
   "outputs": [],
   "source": [
    "data = fetch_california_housing()"
   ]
  },
  {
   "cell_type": "code",
   "execution_count": 3,
   "id": "7ff19b07",
   "metadata": {},
   "outputs": [],
   "source": [
    "df = pd.DataFrame(data = data['data'], columns = data['feature_names'])"
   ]
  },
  {
   "cell_type": "code",
   "execution_count": 5,
   "id": "e064ae36",
   "metadata": {},
   "outputs": [],
   "source": [
    "df['Target'] = data['target']"
   ]
  },
  {
   "cell_type": "code",
   "execution_count": 6,
   "id": "240b3195",
   "metadata": {},
   "outputs": [
    {
     "data": {
      "text/html": [
       "<div>\n",
       "<style scoped>\n",
       "    .dataframe tbody tr th:only-of-type {\n",
       "        vertical-align: middle;\n",
       "    }\n",
       "\n",
       "    .dataframe tbody tr th {\n",
       "        vertical-align: top;\n",
       "    }\n",
       "\n",
       "    .dataframe thead th {\n",
       "        text-align: right;\n",
       "    }\n",
       "</style>\n",
       "<table border=\"1\" class=\"dataframe\">\n",
       "  <thead>\n",
       "    <tr style=\"text-align: right;\">\n",
       "      <th></th>\n",
       "      <th>MedInc</th>\n",
       "      <th>HouseAge</th>\n",
       "      <th>AveRooms</th>\n",
       "      <th>AveBedrms</th>\n",
       "      <th>Population</th>\n",
       "      <th>AveOccup</th>\n",
       "      <th>Latitude</th>\n",
       "      <th>Longitude</th>\n",
       "      <th>Target</th>\n",
       "    </tr>\n",
       "  </thead>\n",
       "  <tbody>\n",
       "    <tr>\n",
       "      <th>0</th>\n",
       "      <td>8.3252</td>\n",
       "      <td>41.0</td>\n",
       "      <td>6.984127</td>\n",
       "      <td>1.023810</td>\n",
       "      <td>322.0</td>\n",
       "      <td>2.555556</td>\n",
       "      <td>37.88</td>\n",
       "      <td>-122.23</td>\n",
       "      <td>4.526</td>\n",
       "    </tr>\n",
       "    <tr>\n",
       "      <th>1</th>\n",
       "      <td>8.3014</td>\n",
       "      <td>21.0</td>\n",
       "      <td>6.238137</td>\n",
       "      <td>0.971880</td>\n",
       "      <td>2401.0</td>\n",
       "      <td>2.109842</td>\n",
       "      <td>37.86</td>\n",
       "      <td>-122.22</td>\n",
       "      <td>3.585</td>\n",
       "    </tr>\n",
       "    <tr>\n",
       "      <th>2</th>\n",
       "      <td>7.2574</td>\n",
       "      <td>52.0</td>\n",
       "      <td>8.288136</td>\n",
       "      <td>1.073446</td>\n",
       "      <td>496.0</td>\n",
       "      <td>2.802260</td>\n",
       "      <td>37.85</td>\n",
       "      <td>-122.24</td>\n",
       "      <td>3.521</td>\n",
       "    </tr>\n",
       "    <tr>\n",
       "      <th>3</th>\n",
       "      <td>5.6431</td>\n",
       "      <td>52.0</td>\n",
       "      <td>5.817352</td>\n",
       "      <td>1.073059</td>\n",
       "      <td>558.0</td>\n",
       "      <td>2.547945</td>\n",
       "      <td>37.85</td>\n",
       "      <td>-122.25</td>\n",
       "      <td>3.413</td>\n",
       "    </tr>\n",
       "    <tr>\n",
       "      <th>4</th>\n",
       "      <td>3.8462</td>\n",
       "      <td>52.0</td>\n",
       "      <td>6.281853</td>\n",
       "      <td>1.081081</td>\n",
       "      <td>565.0</td>\n",
       "      <td>2.181467</td>\n",
       "      <td>37.85</td>\n",
       "      <td>-122.25</td>\n",
       "      <td>3.422</td>\n",
       "    </tr>\n",
       "  </tbody>\n",
       "</table>\n",
       "</div>"
      ],
      "text/plain": [
       "   MedInc  HouseAge  AveRooms  AveBedrms  Population  AveOccup  Latitude  \\\n",
       "0  8.3252      41.0  6.984127   1.023810       322.0  2.555556     37.88   \n",
       "1  8.3014      21.0  6.238137   0.971880      2401.0  2.109842     37.86   \n",
       "2  7.2574      52.0  8.288136   1.073446       496.0  2.802260     37.85   \n",
       "3  5.6431      52.0  5.817352   1.073059       558.0  2.547945     37.85   \n",
       "4  3.8462      52.0  6.281853   1.081081       565.0  2.181467     37.85   \n",
       "\n",
       "   Longitude  Target  \n",
       "0    -122.23   4.526  \n",
       "1    -122.22   3.585  \n",
       "2    -122.24   3.521  \n",
       "3    -122.25   3.413  \n",
       "4    -122.25   3.422  "
      ]
     },
     "execution_count": 6,
     "metadata": {},
     "output_type": "execute_result"
    }
   ],
   "source": [
    "df.head()"
   ]
  },
  {
   "cell_type": "markdown",
   "id": "3273efd3",
   "metadata": {},
   "source": [
    "# 2. Tarefa: Calculadora de Aluguel - Manipulação de Dados"
   ]
  },
  {
   "cell_type": "markdown",
   "id": "ff4b1fc7",
   "metadata": {},
   "source": [
    "# 2.1 Tratamento e distirbuição dos dados\n",
    "\n",
    "Primeiramente, verifica-se que não há dados faltantes, ou seja, não é necessário lidar com dados nulos.\n",
    "\n",
    "Além disso, as variáveis são contínuas e padronizadas.\n",
    "\n",
    "Ainda assim, as variáveis possuem escalas diferentes. Por isso, será aplicado um método de feature scaling aprendido em aula: o MinMax Scaler. Esse scaler é utilizado em distribuições normais e é sensível a outliers. Por isso, foram plotados histogramas e boxplots das variáveis do dataset. Os histogramas mostram que as distribuições das variáveis não são todas normais e que há outliers nos dados, por isso, os dados também serão transformados pelo Robust Scaler, que não é sensível a outliers. Os modelos preditivos serão plotados com ambos os scalers para verificar qual permite realizar a melhor predição."
   ]
  },
  {
   "cell_type": "code",
   "execution_count": 8,
   "id": "038e1592",
   "metadata": {},
   "outputs": [
    {
     "data": {
      "text/html": [
       "<div>\n",
       "<style scoped>\n",
       "    .dataframe tbody tr th:only-of-type {\n",
       "        vertical-align: middle;\n",
       "    }\n",
       "\n",
       "    .dataframe tbody tr th {\n",
       "        vertical-align: top;\n",
       "    }\n",
       "\n",
       "    .dataframe thead th {\n",
       "        text-align: right;\n",
       "    }\n",
       "</style>\n",
       "<table border=\"1\" class=\"dataframe\">\n",
       "  <thead>\n",
       "    <tr style=\"text-align: right;\">\n",
       "      <th></th>\n",
       "      <th>MedInc</th>\n",
       "      <th>HouseAge</th>\n",
       "      <th>AveRooms</th>\n",
       "      <th>AveBedrms</th>\n",
       "      <th>Population</th>\n",
       "      <th>AveOccup</th>\n",
       "      <th>Latitude</th>\n",
       "      <th>Longitude</th>\n",
       "      <th>Target</th>\n",
       "    </tr>\n",
       "  </thead>\n",
       "  <tbody>\n",
       "    <tr>\n",
       "      <th>count</th>\n",
       "      <td>20640.000000</td>\n",
       "      <td>20640.000000</td>\n",
       "      <td>20640.000000</td>\n",
       "      <td>20640.000000</td>\n",
       "      <td>20640.000000</td>\n",
       "      <td>20640.000000</td>\n",
       "      <td>20640.000000</td>\n",
       "      <td>20640.000000</td>\n",
       "      <td>20640.000000</td>\n",
       "    </tr>\n",
       "    <tr>\n",
       "      <th>mean</th>\n",
       "      <td>3.870671</td>\n",
       "      <td>28.639486</td>\n",
       "      <td>5.429000</td>\n",
       "      <td>1.096675</td>\n",
       "      <td>1425.476744</td>\n",
       "      <td>3.070655</td>\n",
       "      <td>35.631861</td>\n",
       "      <td>-119.569704</td>\n",
       "      <td>2.068558</td>\n",
       "    </tr>\n",
       "    <tr>\n",
       "      <th>std</th>\n",
       "      <td>1.899822</td>\n",
       "      <td>12.585558</td>\n",
       "      <td>2.474173</td>\n",
       "      <td>0.473911</td>\n",
       "      <td>1132.462122</td>\n",
       "      <td>10.386050</td>\n",
       "      <td>2.135952</td>\n",
       "      <td>2.003532</td>\n",
       "      <td>1.153956</td>\n",
       "    </tr>\n",
       "    <tr>\n",
       "      <th>min</th>\n",
       "      <td>0.499900</td>\n",
       "      <td>1.000000</td>\n",
       "      <td>0.846154</td>\n",
       "      <td>0.333333</td>\n",
       "      <td>3.000000</td>\n",
       "      <td>0.692308</td>\n",
       "      <td>32.540000</td>\n",
       "      <td>-124.350000</td>\n",
       "      <td>0.149990</td>\n",
       "    </tr>\n",
       "    <tr>\n",
       "      <th>25%</th>\n",
       "      <td>2.563400</td>\n",
       "      <td>18.000000</td>\n",
       "      <td>4.440716</td>\n",
       "      <td>1.006079</td>\n",
       "      <td>787.000000</td>\n",
       "      <td>2.429741</td>\n",
       "      <td>33.930000</td>\n",
       "      <td>-121.800000</td>\n",
       "      <td>1.196000</td>\n",
       "    </tr>\n",
       "    <tr>\n",
       "      <th>50%</th>\n",
       "      <td>3.534800</td>\n",
       "      <td>29.000000</td>\n",
       "      <td>5.229129</td>\n",
       "      <td>1.048780</td>\n",
       "      <td>1166.000000</td>\n",
       "      <td>2.818116</td>\n",
       "      <td>34.260000</td>\n",
       "      <td>-118.490000</td>\n",
       "      <td>1.797000</td>\n",
       "    </tr>\n",
       "    <tr>\n",
       "      <th>75%</th>\n",
       "      <td>4.743250</td>\n",
       "      <td>37.000000</td>\n",
       "      <td>6.052381</td>\n",
       "      <td>1.099526</td>\n",
       "      <td>1725.000000</td>\n",
       "      <td>3.282261</td>\n",
       "      <td>37.710000</td>\n",
       "      <td>-118.010000</td>\n",
       "      <td>2.647250</td>\n",
       "    </tr>\n",
       "    <tr>\n",
       "      <th>max</th>\n",
       "      <td>15.000100</td>\n",
       "      <td>52.000000</td>\n",
       "      <td>141.909091</td>\n",
       "      <td>34.066667</td>\n",
       "      <td>35682.000000</td>\n",
       "      <td>1243.333333</td>\n",
       "      <td>41.950000</td>\n",
       "      <td>-114.310000</td>\n",
       "      <td>5.000010</td>\n",
       "    </tr>\n",
       "  </tbody>\n",
       "</table>\n",
       "</div>"
      ],
      "text/plain": [
       "             MedInc      HouseAge      AveRooms     AveBedrms    Population  \\\n",
       "count  20640.000000  20640.000000  20640.000000  20640.000000  20640.000000   \n",
       "mean       3.870671     28.639486      5.429000      1.096675   1425.476744   \n",
       "std        1.899822     12.585558      2.474173      0.473911   1132.462122   \n",
       "min        0.499900      1.000000      0.846154      0.333333      3.000000   \n",
       "25%        2.563400     18.000000      4.440716      1.006079    787.000000   \n",
       "50%        3.534800     29.000000      5.229129      1.048780   1166.000000   \n",
       "75%        4.743250     37.000000      6.052381      1.099526   1725.000000   \n",
       "max       15.000100     52.000000    141.909091     34.066667  35682.000000   \n",
       "\n",
       "           AveOccup      Latitude     Longitude        Target  \n",
       "count  20640.000000  20640.000000  20640.000000  20640.000000  \n",
       "mean       3.070655     35.631861   -119.569704      2.068558  \n",
       "std       10.386050      2.135952      2.003532      1.153956  \n",
       "min        0.692308     32.540000   -124.350000      0.149990  \n",
       "25%        2.429741     33.930000   -121.800000      1.196000  \n",
       "50%        2.818116     34.260000   -118.490000      1.797000  \n",
       "75%        3.282261     37.710000   -118.010000      2.647250  \n",
       "max     1243.333333     41.950000   -114.310000      5.000010  "
      ]
     },
     "execution_count": 8,
     "metadata": {},
     "output_type": "execute_result"
    }
   ],
   "source": [
    "df.describe()"
   ]
  },
  {
   "cell_type": "code",
   "execution_count": 9,
   "id": "240dac01",
   "metadata": {},
   "outputs": [
    {
     "name": "stdout",
     "output_type": "stream",
     "text": [
      "<class 'pandas.core.frame.DataFrame'>\n",
      "RangeIndex: 20640 entries, 0 to 20639\n",
      "Data columns (total 9 columns):\n",
      " #   Column      Non-Null Count  Dtype  \n",
      "---  ------      --------------  -----  \n",
      " 0   MedInc      20640 non-null  float64\n",
      " 1   HouseAge    20640 non-null  float64\n",
      " 2   AveRooms    20640 non-null  float64\n",
      " 3   AveBedrms   20640 non-null  float64\n",
      " 4   Population  20640 non-null  float64\n",
      " 5   AveOccup    20640 non-null  float64\n",
      " 6   Latitude    20640 non-null  float64\n",
      " 7   Longitude   20640 non-null  float64\n",
      " 8   Target      20640 non-null  float64\n",
      "dtypes: float64(9)\n",
      "memory usage: 1.4 MB\n"
     ]
    }
   ],
   "source": [
    "df.info()"
   ]
  },
  {
   "cell_type": "code",
   "execution_count": 14,
   "id": "c8bebea0",
   "metadata": {},
   "outputs": [
    {
     "data": {
      "text/plain": [
       "[]"
      ]
     },
     "execution_count": 14,
     "metadata": {},
     "output_type": "execute_result"
    },
    {
     "data": {
      "image/png": "[encoded data removed]",
      "text/plain": [
       "<Figure size 1296x864 with 9 Axes>"
      ]
     },
     "metadata": {
      "needs_background": "light"
     },
     "output_type": "display_data"
    }
   ],
   "source": [
    "df.hist(figsize=(18,12))\n",
    "plt.plot()"
   ]
  },
  {
   "cell_type": "code",
   "execution_count": 15,
   "id": "0c70700e",
   "metadata": {},
   "outputs": [
    {
     "data": {
      "text/plain": [
       "[]"
      ]
     },
     "execution_count": 15,
     "metadata": {},
     "output_type": "execute_result"
    },
    {
     "data": {
      "image/png": "[encoded data removed]",
      "text/plain": [
       "<Figure size 1296x864 with 1 Axes>"
      ]
     },
     "metadata": {
      "needs_background": "light"
     },
     "output_type": "display_data"
    }
   ],
   "source": [
    "df.boxplot(figsize=(18,12))\n",
    "plt.plot()"
   ]
  },
  {
   "cell_type": "markdown",
   "id": "d46b433b",
   "metadata": {},
   "source": [
    "# 2.2 Feature Scaling - Min Max Scaler"
   ]
  },
  {
   "cell_type": "code",
   "execution_count": 17,
   "id": "c110d8a9",
   "metadata": {},
   "outputs": [
    {
     "data": {
      "text/html": [
       "<div>\n",
       "<style scoped>\n",
       "    .dataframe tbody tr th:only-of-type {\n",
       "        vertical-align: middle;\n",
       "    }\n",
       "\n",
       "    .dataframe tbody tr th {\n",
       "        vertical-align: top;\n",
       "    }\n",
       "\n",
       "    .dataframe thead th {\n",
       "        text-align: right;\n",
       "    }\n",
       "</style>\n",
       "<table border=\"1\" class=\"dataframe\">\n",
       "  <thead>\n",
       "    <tr style=\"text-align: right;\">\n",
       "      <th></th>\n",
       "      <th>MedInc</th>\n",
       "      <th>HouseAge</th>\n",
       "      <th>AveRooms</th>\n",
       "      <th>AveBedrms</th>\n",
       "      <th>Population</th>\n",
       "      <th>AveOccup</th>\n",
       "      <th>Latitude</th>\n",
       "      <th>Longitude</th>\n",
       "      <th>Target</th>\n",
       "    </tr>\n",
       "  </thead>\n",
       "  <tbody>\n",
       "    <tr>\n",
       "      <th>count</th>\n",
       "      <td>20640.000000</td>\n",
       "      <td>20640.000000</td>\n",
       "      <td>20640.000000</td>\n",
       "      <td>20640.000000</td>\n",
       "      <td>20640.000000</td>\n",
       "      <td>20640.000000</td>\n",
       "      <td>20640.000000</td>\n",
       "      <td>20640.000000</td>\n",
       "      <td>20640.000000</td>\n",
       "    </tr>\n",
       "    <tr>\n",
       "      <th>mean</th>\n",
       "      <td>0.232464</td>\n",
       "      <td>0.541951</td>\n",
       "      <td>0.032488</td>\n",
       "      <td>0.022629</td>\n",
       "      <td>0.039869</td>\n",
       "      <td>0.001914</td>\n",
       "      <td>0.328572</td>\n",
       "      <td>0.476125</td>\n",
       "      <td>2.068558</td>\n",
       "    </tr>\n",
       "    <tr>\n",
       "      <th>std</th>\n",
       "      <td>0.131020</td>\n",
       "      <td>0.246776</td>\n",
       "      <td>0.017539</td>\n",
       "      <td>0.014049</td>\n",
       "      <td>0.031740</td>\n",
       "      <td>0.008358</td>\n",
       "      <td>0.226988</td>\n",
       "      <td>0.199555</td>\n",
       "      <td>1.153956</td>\n",
       "    </tr>\n",
       "    <tr>\n",
       "      <th>min</th>\n",
       "      <td>0.000000</td>\n",
       "      <td>0.000000</td>\n",
       "      <td>0.000000</td>\n",
       "      <td>0.000000</td>\n",
       "      <td>0.000000</td>\n",
       "      <td>0.000000</td>\n",
       "      <td>0.000000</td>\n",
       "      <td>0.000000</td>\n",
       "      <td>0.149990</td>\n",
       "    </tr>\n",
       "    <tr>\n",
       "      <th>25%</th>\n",
       "      <td>0.142308</td>\n",
       "      <td>0.333333</td>\n",
       "      <td>0.025482</td>\n",
       "      <td>0.019943</td>\n",
       "      <td>0.021974</td>\n",
       "      <td>0.001398</td>\n",
       "      <td>0.147715</td>\n",
       "      <td>0.253984</td>\n",
       "      <td>1.196000</td>\n",
       "    </tr>\n",
       "    <tr>\n",
       "      <th>50%</th>\n",
       "      <td>0.209301</td>\n",
       "      <td>0.549020</td>\n",
       "      <td>0.031071</td>\n",
       "      <td>0.021209</td>\n",
       "      <td>0.032596</td>\n",
       "      <td>0.001711</td>\n",
       "      <td>0.182784</td>\n",
       "      <td>0.583665</td>\n",
       "      <td>1.797000</td>\n",
       "    </tr>\n",
       "    <tr>\n",
       "      <th>75%</th>\n",
       "      <td>0.292641</td>\n",
       "      <td>0.705882</td>\n",
       "      <td>0.036907</td>\n",
       "      <td>0.022713</td>\n",
       "      <td>0.048264</td>\n",
       "      <td>0.002084</td>\n",
       "      <td>0.549416</td>\n",
       "      <td>0.631474</td>\n",
       "      <td>2.647250</td>\n",
       "    </tr>\n",
       "    <tr>\n",
       "      <th>max</th>\n",
       "      <td>1.000000</td>\n",
       "      <td>1.000000</td>\n",
       "      <td>1.000000</td>\n",
       "      <td>1.000000</td>\n",
       "      <td>1.000000</td>\n",
       "      <td>1.000000</td>\n",
       "      <td>1.000000</td>\n",
       "      <td>1.000000</td>\n",
       "      <td>5.000010</td>\n",
       "    </tr>\n",
       "  </tbody>\n",
       "</table>\n",
       "</div>"
      ],
      "text/plain": [
       "             MedInc      HouseAge      AveRooms     AveBedrms    Population  \\\n",
       "count  20640.000000  20640.000000  20640.000000  20640.000000  20640.000000   \n",
       "mean       0.232464      0.541951      0.032488      0.022629      0.039869   \n",
       "std        0.131020      0.246776      0.017539      0.014049      0.031740   \n",
       "min        0.000000      0.000000      0.000000      0.000000      0.000000   \n",
       "25%        0.142308      0.333333      0.025482      0.019943      0.021974   \n",
       "50%        0.209301      0.549020      0.031071      0.021209      0.032596   \n",
       "75%        0.292641      0.705882      0.036907      0.022713      0.048264   \n",
       "max        1.000000      1.000000      1.000000      1.000000      1.000000   \n",
       "\n",
       "           AveOccup      Latitude     Longitude        Target  \n",
       "count  20640.000000  20640.000000  20640.000000  20640.000000  \n",
       "mean       0.001914      0.328572      0.476125      2.068558  \n",
       "std        0.008358      0.226988      0.199555      1.153956  \n",
       "min        0.000000      0.000000      0.000000      0.149990  \n",
       "25%        0.001398      0.147715      0.253984      1.196000  \n",
       "50%        0.001711      0.182784      0.583665      1.797000  \n",
       "75%        0.002084      0.549416      0.631474      2.647250  \n",
       "max        1.000000      1.000000      1.000000      5.000010  "
      ]
     },
     "execution_count": 17,
     "metadata": {},
     "output_type": "execute_result"
    }
   ],
   "source": [
    "X_columns = data['feature_names']\n",
    "scaler = MinMaxScaler()\n",
    "df.loc[:,X_columns] = scaler.fit_transform(df[X_columns])\n",
    "df.describe()"
   ]
  },
  {
   "cell_type": "code",
   "execution_count": 22,
   "id": "ae4868c1",
   "metadata": {},
   "outputs": [
    {
     "data": {
      "text/html": [
       "<div>\n",
       "<style scoped>\n",
       "    .dataframe tbody tr th:only-of-type {\n",
       "        vertical-align: middle;\n",
       "    }\n",
       "\n",
       "    .dataframe tbody tr th {\n",
       "        vertical-align: top;\n",
       "    }\n",
       "\n",
       "    .dataframe thead th {\n",
       "        text-align: right;\n",
       "    }\n",
       "</style>\n",
       "<table border=\"1\" class=\"dataframe\">\n",
       "  <thead>\n",
       "    <tr style=\"text-align: right;\">\n",
       "      <th></th>\n",
       "      <th>MedInc</th>\n",
       "      <th>HouseAge</th>\n",
       "      <th>AveRooms</th>\n",
       "      <th>AveBedrms</th>\n",
       "      <th>Population</th>\n",
       "      <th>AveOccup</th>\n",
       "      <th>Latitude</th>\n",
       "      <th>Longitude</th>\n",
       "      <th>Target</th>\n",
       "    </tr>\n",
       "  </thead>\n",
       "  <tbody>\n",
       "    <tr>\n",
       "      <th>count</th>\n",
       "      <td>20640.000000</td>\n",
       "      <td>20640.000000</td>\n",
       "      <td>20640.000000</td>\n",
       "      <td>20640.000000</td>\n",
       "      <td>20640.000000</td>\n",
       "      <td>20640.000000</td>\n",
       "      <td>20640.000000</td>\n",
       "      <td>20640.000000</td>\n",
       "      <td>20640.000000</td>\n",
       "    </tr>\n",
       "    <tr>\n",
       "      <th>mean</th>\n",
       "      <td>0.154080</td>\n",
       "      <td>-0.018974</td>\n",
       "      <td>0.124015</td>\n",
       "      <td>0.512533</td>\n",
       "      <td>0.276628</td>\n",
       "      <td>0.296227</td>\n",
       "      <td>0.362926</td>\n",
       "      <td>-0.284882</td>\n",
       "      <td>2.068558</td>\n",
       "    </tr>\n",
       "    <tr>\n",
       "      <th>std</th>\n",
       "      <td>0.871538</td>\n",
       "      <td>0.662398</td>\n",
       "      <td>1.535166</td>\n",
       "      <td>5.071439</td>\n",
       "      <td>1.207316</td>\n",
       "      <td>12.182767</td>\n",
       "      <td>0.565067</td>\n",
       "      <td>0.528636</td>\n",
       "      <td>1.153956</td>\n",
       "    </tr>\n",
       "    <tr>\n",
       "      <th>min</th>\n",
       "      <td>-1.392252</td>\n",
       "      <td>-1.473684</td>\n",
       "      <td>-2.719533</td>\n",
       "      <td>-7.656179</td>\n",
       "      <td>-1.239872</td>\n",
       "      <td>-2.493559</td>\n",
       "      <td>-0.455026</td>\n",
       "      <td>-1.546174</td>\n",
       "      <td>0.149990</td>\n",
       "    </tr>\n",
       "    <tr>\n",
       "      <th>25%</th>\n",
       "      <td>-0.445627</td>\n",
       "      <td>-0.578947</td>\n",
       "      <td>-0.489191</td>\n",
       "      <td>-0.456959</td>\n",
       "      <td>-0.404051</td>\n",
       "      <td>-0.455561</td>\n",
       "      <td>-0.087302</td>\n",
       "      <td>-0.873351</td>\n",
       "      <td>1.196000</td>\n",
       "    </tr>\n",
       "    <tr>\n",
       "      <th>50%</th>\n",
       "      <td>0.000000</td>\n",
       "      <td>0.000000</td>\n",
       "      <td>0.000000</td>\n",
       "      <td>0.000000</td>\n",
       "      <td>0.000000</td>\n",
       "      <td>0.000000</td>\n",
       "      <td>0.000000</td>\n",
       "      <td>0.000000</td>\n",
       "      <td>1.797000</td>\n",
       "    </tr>\n",
       "    <tr>\n",
       "      <th>75%</th>\n",
       "      <td>0.554373</td>\n",
       "      <td>0.421053</td>\n",
       "      <td>0.510809</td>\n",
       "      <td>0.543041</td>\n",
       "      <td>0.595949</td>\n",
       "      <td>0.544439</td>\n",
       "      <td>0.912698</td>\n",
       "      <td>0.126649</td>\n",
       "      <td>2.647250</td>\n",
       "    </tr>\n",
       "    <tr>\n",
       "      <th>max</th>\n",
       "      <td>5.259674</td>\n",
       "      <td>1.210526</td>\n",
       "      <td>84.806698</td>\n",
       "      <td>353.332681</td>\n",
       "      <td>36.797441</td>\n",
       "      <td>1455.116059</td>\n",
       "      <td>2.034392</td>\n",
       "      <td>1.102902</td>\n",
       "      <td>5.000010</td>\n",
       "    </tr>\n",
       "  </tbody>\n",
       "</table>\n",
       "</div>"
      ],
      "text/plain": [
       "             MedInc      HouseAge      AveRooms     AveBedrms    Population  \\\n",
       "count  20640.000000  20640.000000  20640.000000  20640.000000  20640.000000   \n",
       "mean       0.154080     -0.018974      0.124015      0.512533      0.276628   \n",
       "std        0.871538      0.662398      1.535166      5.071439      1.207316   \n",
       "min       -1.392252     -1.473684     -2.719533     -7.656179     -1.239872   \n",
       "25%       -0.445627     -0.578947     -0.489191     -0.456959     -0.404051   \n",
       "50%        0.000000      0.000000      0.000000      0.000000      0.000000   \n",
       "75%        0.554373      0.421053      0.510809      0.543041      0.595949   \n",
       "max        5.259674      1.210526     84.806698    353.332681     36.797441   \n",
       "\n",
       "           AveOccup      Latitude     Longitude        Target  \n",
       "count  20640.000000  20640.000000  20640.000000  20640.000000  \n",
       "mean       0.296227      0.362926     -0.284882      2.068558  \n",
       "std       12.182767      0.565067      0.528636      1.153956  \n",
       "min       -2.493559     -0.455026     -1.546174      0.149990  \n",
       "25%       -0.455561     -0.087302     -0.873351      1.196000  \n",
       "50%        0.000000      0.000000      0.000000      1.797000  \n",
       "75%        0.544439      0.912698      0.126649      2.647250  \n",
       "max     1455.116059      2.034392      1.102902      5.000010  "
      ]
     },
     "execution_count": 22,
     "metadata": {},
     "output_type": "execute_result"
    }
   ],
   "source": [
    "robust_scaler = RobustScaler()\n",
    "df.loc[:,X_columns] = robust_scaler.fit_transform(df[X_columns])\n",
    "df.describe()"
   ]
  },
  {
   "cell_type": "markdown",
   "id": "cab1056a",
   "metadata": {},
   "source": [
    "# 3. Tarefa: Calculadora de Aluguel - Machine Learning\n",
    "\n",
    "1. Modelo regressivo: Aqui, utiliza-se um modelo regressivo de support machine vector (SVR) para prever os preços dos alugueis.\n",
    "2. Feature scaling: Os modelos foram rodados com dois tipos de feature scaling: Min Max Scaler e Robust Scaler.\n",
    "3. Avaliação dos modelos: a avaliação dos modelos é feita pelo MSE, métrica que permite comparar modelos preditivos e quanto menor o índice, menor o erro da predição. Isso mostra que o modelo com robust scaler performou um pouco melhor que o de min max scaler, e o erro é de 0,4444.\n",
    "4. Hiperparâmetro e cross validation: Com esses métodos, foi gerado um modelo com RMSE de o,66. Como apresentou maior nível de erro que o modelo de regressão sem esses métodos, esse modelo não apresentou melhoras.\n",
    "5. Evolução do projeto: Como evolução do projeto, é interessante testar outros parâmetros de tunning e cross validation para obter melhores resultados. Além disso, é possível testar outros métodos de regressão como árvore de decisão."
   ]
  },
  {
   "cell_type": "markdown",
   "id": "02c57526",
   "metadata": {},
   "source": [
    "# 3.1 Regressão com Min Max Scaler"
   ]
  },
  {
   "cell_type": "code",
   "execution_count": 23,
   "id": "8d16e07e",
   "metadata": {},
   "outputs": [],
   "source": [
    "X = df[X_columns]\n",
    "y = df['Target']\n",
    "X_train, X_test, y_train, y_test = train_test_split(X, y, test_size=0.2, random_state=1)"
   ]
  },
  {
   "cell_type": "code",
   "execution_count": 19,
   "id": "6065f14f",
   "metadata": {},
   "outputs": [
    {
     "data": {
      "text/plain": [
       "0.4529976364589729"
      ]
     },
     "execution_count": 19,
     "metadata": {},
     "output_type": "execute_result"
    }
   ],
   "source": [
    "svr = SVR()\n",
    "svr.fit(X_train, y_train)\n",
    "y_pred = svr.predict(X_test)\n",
    "mse(y_test,y_pred)"
   ]
  },
  {
   "cell_type": "markdown",
   "id": "ce0e9c72",
   "metadata": {},
   "source": [
    "# 3.2 Regressão com Robust Scaler"
   ]
  },
  {
   "cell_type": "code",
   "execution_count": 24,
   "id": "6c58efe4",
   "metadata": {},
   "outputs": [
    {
     "data": {
      "text/plain": [
       "0.4443991160635302"
      ]
     },
     "execution_count": 24,
     "metadata": {},
     "output_type": "execute_result"
    }
   ],
   "source": [
    "svr = SVR()\n",
    "svr.fit(X_train, y_train)\n",
    "y_pred = svr.predict(X_test)\n",
    "mse(y_test,y_pred)"
   ]
  },
  {
   "cell_type": "markdown",
   "id": "314f087d",
   "metadata": {},
   "source": [
    "# 3.3 Tunning hiperparametros (Grid Search)"
   ]
  },
  {
   "cell_type": "code",
   "execution_count": 26,
   "id": "633e4e05",
   "metadata": {},
   "outputs": [],
   "source": [
    "parametros = {'kernel':['rbf','poly','sigmoid'],\n",
    "              'C':[0.001,1.0,5.0,100.0]}"
   ]
  },
  {
   "cell_type": "code",
   "execution_count": 29,
   "id": "efbf8ce4",
   "metadata": {},
   "outputs": [],
   "source": [
    "gridsearch = GridSearchCV(svr, \n",
    "                          parametros,\n",
    "                          scoring=\"neg_mean_squared_error\",\n",
    "                          verbose=1)"
   ]
  },
  {
   "cell_type": "code",
   "execution_count": null,
   "id": "9063545a",
   "metadata": {},
   "outputs": [
    {
     "name": "stdout",
     "output_type": "stream",
     "text": [
      "Fitting 5 folds for each of 12 candidates, totalling 60 fits\n"
     ]
    }
   ],
   "source": [
    "gridsearch.fit(X_train, y_train)"
   ]
  },
  {
   "cell_type": "code",
   "execution_count": 33,
   "id": "d5a2387a",
   "metadata": {},
   "outputs": [],
   "source": [
    "scores = cross_val_score(svr, X_train, y_train, scoring='neg_mean_squared_error', cv=10)"
   ]
  },
  {
   "cell_type": "code",
   "execution_count": 34,
   "id": "b59369d0",
   "metadata": {},
   "outputs": [
    {
     "data": {
      "text/plain": [
       "(array([-0.45754499, -0.41529552, -0.43075146, -0.39728363, -0.44614413,\n",
       "        -0.43670923, -0.38661877, -0.42371417, -0.45201266, -0.44246029]),\n",
       " array([0.67642072, 0.64443426, 0.65631658, 0.6303044 , 0.66794021,\n",
       "        0.66083979, 0.62178676, 0.65093331, 0.67231887, 0.66517689]))"
      ]
     },
     "execution_count": 34,
     "metadata": {},
     "output_type": "execute_result"
    }
   ],
   "source": [
    "rmse = np.sqrt(-scores)\n",
    "scores, rmse"
   ]
  },
  {
   "cell_type": "code",
   "execution_count": 37,
   "id": "df88ddd6",
   "metadata": {},
   "outputs": [
    {
     "name": "stdout",
     "output_type": "stream",
     "text": [
      "RMSE: 0.6546471788887842\n"
     ]
    }
   ],
   "source": [
    "print(\"RMSE: \" + str(rmse.mean()))"
   ]
  }
 ],
 "metadata": {
  "kernelspec": {
   "display_name": "Python 3",
   "language": "python",
   "name": "python3"
  },
  "language_info": {
   "codemirror_mode": {
    "name": "ipython",
    "version": 3
   },
   "file_extension": ".py",
   "mimetype": "text/x-python",
   "name": "python",
   "nbconvert_exporter": "python",
   "pygments_lexer": "ipython3",
   "version": "3.8.8"
  }
 },
 "nbformat": 4,
 "nbformat_minor": 5
}
